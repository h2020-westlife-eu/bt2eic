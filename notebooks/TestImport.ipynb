{
 "cells": [
  {
   "cell_type": "markdown",
   "metadata": {},
   "source": [
    "# Connect to bio.tools API\n"
   ]
  },
  {
   "cell_type": "code",
   "execution_count": 120,
   "metadata": {},
   "outputs": [],
   "source": [
    "LOGOS = {\n",
    "    #'DisVis web portal': , no logo\n",
    "    #'PowerFit web portal': , no logo\n",
    "    'HADDOCK web portal': 'http://haddock.science.uu.nl/enmr/services/HADDOCK2.2/HADDOCK-logo.png' ,\n",
    "    #'Virtual Folder for Structural Biology Projects': ,\n",
    "    'PDB_REDO server': 'https://pdb-redo.eu/images/PDB_logo_rect_medium.svg',\n",
    "    #'Protein Crystallisation Construct Designer': ,\n",
    "    'Scipion': 'http://scipionwebtools.westlife.fedcloud.eu/m/resources/scipion_logo_normal.png', \n",
    "    '3DBIONOTES': 'https://3dbionotes.cnb.csic.es/assets/3dbionotes_ws_logo-6652d19a5137adc910eb93da6d77658e451ddeae1318b01eb313b271f3e92c0f.png', \n",
    "    'ARP wARP': 'https://arpwarp.embl-hamburg.de/static/arp.png',   \n",
    "    #'CS-ROSETTA3',  no logo,\n",
    "    'MetalPDB': 'http://metalweb.cerm.unifi.it/global/images/MetalPDB.png',\n",
    "    'Dipcheck': 'http://cluster.embl-hamburg.de/dipcheck/images/dipcheck.png'\n",
    "    \n",
    "}"
   ]
  },
  {
   "cell_type": "markdown",
   "metadata": {},
   "source": [
    "\n",
    "## Get West-Life tools\n",
    "\n",
    "This version uses the Dev server"
   ]
  },
  {
   "cell_type": "code",
   "execution_count": 121,
   "metadata": {},
   "outputs": [
    {
     "data": {
      "text/plain": [
       "'loaded'"
      ]
     },
     "execution_count": 121,
     "metadata": {},
     "output_type": "execute_result"
    }
   ],
   "source": [
    "# \n",
    "import requests\n",
    "\n",
    "# a GET request\n",
    "response = requests.get('https://dev.bio.tools/api/tool/?collectionID=West-Life&format=json',\n",
    "    # could  \"Accept\": \"application/json;charset=UTF-8\"\n",
    ")\n",
    "assert 200 == response.status_code\n",
    "btservices = response.json()['list']\n",
    "'loaded'"
   ]
  },
  {
   "cell_type": "markdown",
   "metadata": {},
   "source": [
    "## Convert to einfracentral format"
   ]
  },
  {
   "cell_type": "code",
   "execution_count": 131,
   "metadata": {},
   "outputs": [
    {
     "name": "stdout",
     "output_type": "stream",
     "text": [
      "DisVis web portal\n",
      "PowerFit web portal\n",
      "HADDOCK web portal\n",
      "Virtual Folder for Structural Biology Projects\n",
      "PDB_REDO server\n",
      "Protein Crystallisation Construct Designer\n"
     ]
    },
    {
     "data": {
      "text/plain": [
       "'validated'"
      ]
     },
     "execution_count": 131,
     "metadata": {},
     "output_type": "execute_result"
    }
   ],
   "source": [
    "import json\n",
    "\n",
    "def convert(btservice):\n",
    "    eiservice = {\n",
    "        # required terms \n",
    "        'name': btservice['name'],\n",
    "        'url': btservice['homepage'],\n",
    "        'order': btservice['download'][0]['url'] if btservice['download'] else btservice['homepage'], \n",
    "        \"providers\": ['West-Life'],\n",
    "\n",
    "        # Required, but no good match in bio.tools\n",
    "        'symbol': ( LOGOS[btservice['name']] if btservice['name'] in LOGOS\n",
    "                   else 'https://about.west-life.eu/network/west-life/templates/westlife/images/west-life.png'), \n",
    "        \"category\": \"Category-Software\", \"subcategory\": \"Subcategory-Tool\",\n",
    "        \"places\": [\"Place-WW\"],\n",
    "        \n",
    "        # length limit in einfacentral\n",
    "        'funding' : \"EC funding \",\n",
    "        \n",
    "        # terms that map fairly well\n",
    "        # could register all 'providers': btservice['collectionID'], # nearest approximation\n",
    "        'version': btservice['version'][0] if btservice['version'] else '1.0',\n",
    "        \"lastUpdate\": btservice['lastUpdate'],\n",
    "        'description': btservice['description'],\n",
    "        'tags': [ t['term'] for t in btservice['topic']],\n",
    "        # btservice['language'] is computer language of implementation, not natural language of UI\n",
    "        \n",
    "        # defaults, revised below if possible\n",
    "        \"serviceLevelAgreement\": \"https://auth.west-life.eu/aai/AUP.pdf\", \n",
    "        'helpdesk': 'https://about.west-life.eu/network/west-life/documentation',\n",
    "        'options': '',\n",
    "        \"termsOfUse\": [\"https://auth.west-life.eu/aai/AUP.pdf\"], \n",
    "        \"languages\": [\"Language-en\"],\n",
    "\n",
    "    }\n",
    "    if btservice['license']:\n",
    "        if btservice['license'].startswith('http'):\n",
    "            eiservice['termsOfUse'] = [btservice['license']]\n",
    "        elif ( 'GNU General Public License v2' == btservice['license'].strip()\n",
    "            or 'GPL-2.0'  == btservice['license'].strip() ):\n",
    "            eiservice['termsOfUse'] = ['https://www.gnu.org/licenses/gpl-2.0.html']\n",
    "        else:\n",
    "            print('licence', '<'+btservice['license']+'>')\n",
    "    for f in btservice['function']:\n",
    "        for op in f['operation']:\n",
    "            eiservice['options'] = eiservice['options'] +op['term']+', '\n",
    "    if btservice['function']:\n",
    "        for f in btservice['function']:\n",
    "            if 'note' in f and f['note']:\n",
    "                tagline = f['note']\n",
    "                eiservice['tagline'] = tagline if len(tagline)<100 else tagline[0:97]+'...'\n",
    "                break;\n",
    "    if 'Mature'==btservice['maturity'] or btservice['maturity'] is None:\n",
    "        eiservice[\"lifeCycleStatus\"] = \"LifeCycleStatus-Production\"\n",
    "        eiservice[\"trl\"]= \"TRL-9\"\n",
    "    elif 'Emerging'==btservice['maturity']:\n",
    "        eiservice[\"lifeCycleStatus\"] = \"LifeCycleStatus-Beta\"\n",
    "        eiservice[\"trl\"]= \"TRL-7\" # permissible levels are 9,8,7\n",
    "    else:\n",
    "        print('maturity', btservice['maturity'])\n",
    "        \n",
    "    for d  in btservice['documentation']:\n",
    "        if 'Citation instructions' == d['type']:\n",
    "            pass\n",
    "        elif 'Terms of Use' == d['type']:\n",
    "            eiservice['termsOfUse'] = [d['url']]\n",
    "            eiservice['serviceLevelAgreement'] = d['url']\n",
    "    for d in btservice['credit']:\n",
    "        # unfortunately \"max length for 'funding' is 500 chars\"\n",
    "        #if  'Funding agency' == d['typeEntity']:\n",
    "            # eiservice['funding'] = eiservice['funding']+', '+d['name']\n",
    "        if d['typeRole'] and 'Primary Contact' in d['typeRole']:\n",
    "            eiservice['helpdesk'] = d['url']\n",
    "    return eiservice\n",
    "\n",
    "# options, \n",
    "eiservices = []\n",
    "for btservice in btservices:\n",
    "    eiservice = convert(btservice)\n",
    "    # validate it        \n",
    "    HEADERS = {'Content-Type': 'application/json', 'Accept': 'application/json'}\n",
    "    response = requests.post('http://beta.einfracentral.eu/api/service/validate', \n",
    "        data=json.dumps(eiservice), headers=HEADERS)\n",
    "\n",
    "    assert 200 == response.status_code, response.json()\n",
    "    eiservices.append(eiservice)\n",
    "    print(eiservice['name'])\n",
    "'validated'"
   ]
  },
  {
   "cell_type": "markdown",
   "metadata": {},
   "source": [
    "This work was funded by West-Life, a project funded by the European Commision contract H2020-EINFRA-2015-1-675858.\n",
    "\n",
    "Author: Chris Morris\n",
    "\n",
    "Copyright: STFC 201\n"
   ]
  }
 ],
 "metadata": {
  "kernelspec": {
   "display_name": "Python 3",
   "language": "python",
   "name": "python3"
  },
  "language_info": {
   "codemirror_mode": {
    "name": "ipython",
    "version": 3
   },
   "file_extension": ".py",
   "mimetype": "text/x-python",
   "name": "python",
   "nbconvert_exporter": "python",
   "pygments_lexer": "ipython3",
   "version": "3.6.3"
  }
 },
 "nbformat": 4,
 "nbformat_minor": 2
}
