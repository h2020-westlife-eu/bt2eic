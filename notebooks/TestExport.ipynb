{
 "cells": [
  {
   "cell_type": "markdown",
   "metadata": {},
   "source": [
    "# Connect to eInfraCentral [API](http://beta.einfracentral.eu/openapi)\n",
    "\n",
    "## Search"
   ]
  },
  {
   "cell_type": "code",
   "execution_count": 5,
   "metadata": {},
   "outputs": [
    {
     "data": {
      "text/plain": [
       "{'id': 'openaire.openaire_discovery_portal',\n",
       " 'url': 'https://www.openaire.eu',\n",
       " 'name': 'OpenAIRE Discovery Portal',\n",
       " 'tagline': 'Find open linked research ',\n",
       " 'description': '<p>The OpenAIRE Discovery portal provides access to Open Access research content. It is based on OpenAIRE&#39;s open scholarly communication graph that includes all research and scholarly activitiies, spanning all phases of the research life cycle. The OpenAIRE scholarly communication graph is created bi-monthly by aggregating, cleaning, transforming and inferring content retrieved from OpenAIRE&#39;s European and global network of validated OA data providers. In addition to the usual search and browse mechanisms, the OpenAIRE Discovery portal provides end user functionalities which allow users to: find the most fitting repository to deposit their publication or data, authoritavely enrich the underlying content (e.g., linking research results to funding, linking research resultsto external sources), view, download reports or graphs of aggregated research outcomes (e.g., per funder, project, institution) and their stats.</p>',\n",
       " 'options': '',\n",
       " 'targetUsers': 'Academic community, Research Community, policy makers, funders, research libraries, educators, industry, citizen scientists/public.',\n",
       " 'userValue': 'Enable intelligent and contextualized research discovery.Connect public to open access research in Europe and beyond.',\n",
       " 'userBase': '9,200 registered users. 50,000 users use the service on the average every month. ',\n",
       " 'symbol': 'https://www.openaire.eu/images/service_images/Search--Share.png',\n",
       " 'multimediaURL': None,\n",
       " 'providers': ['openaire'],\n",
       " 'version': 'v3',\n",
       " 'lastUpdate': 949356000000,\n",
       " 'changeLog': '',\n",
       " 'validFor': None,\n",
       " 'lifeCycleStatus': 'LifeCycleStatus-Production',\n",
       " 'trl': 'TRL-9',\n",
       " 'category': 'Category-Aggregator',\n",
       " 'subcategory': 'Subcategory-Services-Data-Publications',\n",
       " 'places': ['Place-WW'],\n",
       " 'languages': ['Language-en'],\n",
       " 'tags': [],\n",
       " 'requiredServices': None,\n",
       " 'relatedServices': None,\n",
       " 'order': 'https://www.openaire.eu',\n",
       " 'helpdesk': 'https://www.openaire.eu/support/helpdesk',\n",
       " 'userManual': None,\n",
       " 'trainingInformation': None,\n",
       " 'feedback': 'https://www.openaire.eu/support/helpdesk',\n",
       " 'price': 'http://api.openaire.eu/',\n",
       " 'serviceLevelAgreement': 'http://api.openaire.eu/',\n",
       " 'termsOfUse': None,\n",
       " 'funding': 'EC funding '}"
      ]
     },
     "execution_count": 5,
     "metadata": {},
     "output_type": "execute_result"
    }
   ],
   "source": [
    "import requests\n",
    "\n",
    "# a GET request\n",
    "response = requests.get('http://beta.einfracentral.eu/api/service/all?query=providers%3Dopenaire',\n",
    "    # could  \"Accept\": \"application/json;charset=UTF-8\"\n",
    ")\n",
    "assert 200 == response.status_code\n",
    "response.json()['results'][0]"
   ]
  },
  {
   "cell_type": "markdown",
   "metadata": {},
   "source": [
    "## Validate a new service description"
   ]
  },
  {
   "cell_type": "code",
   "execution_count": 41,
   "metadata": {},
   "outputs": [
    {
     "data": {
      "text/plain": [
       "True"
      ]
     },
     "execution_count": 41,
     "metadata": {},
     "output_type": "execute_result"
    }
   ],
   "source": [
    "import json\n",
    "import datetime\n",
    "\n",
    "# See the Service Description Template https://www.dropbox.com/s/1yj01w1wvj9rgyu/eInfraCentral-JNP-ServiceDescriptionTemplate.xlsx?dl=0\n",
    "\n",
    "DEFAULTS = {\n",
    "  #\"id\": \"(required on PUT only)\",\n",
    "  #tagline\": \"Service Slogan (optional)\",\n",
    "  \"description\": \"Service Description (required)\",\n",
    "  \"options\": \"Service Options (optional)\",\n",
    "  \"targetUsers\": \"Structural Biologists\",\n",
    "  #\"userValue\": \"Service User Value (optional)\",\n",
    "  #\"userBase\": \"Service User Base (optional)\",\n",
    "  # \"multimediaURL\": \"http://multimedia.url (optional)\",\n",
    "  \"providers\": ['West-Life'],\n",
    "  \"version\": \"2018\",\n",
    "  \"lastUpdate\": datetime.datetime.now().strftime(\"%Y-%m-%d\"),\n",
    "  #\"changeLog\": \"Service Changelog (optional)\",\n",
    "  #\"validFor\": \"2050-04-27\",\n",
    "  \"lifeCycleStatus\": \"LifeCycleStatus-Production\",\n",
    "  \"trl\": \"TRL-9\",\n",
    "  \"category\": \"Category-Software\", \"subcategory\": \"Subcategory-Tool\", # no really good match for web service\n",
    "  \"places\": [\"Place-WW\"], # seems to mean whole world\n",
    "  \"languages\": [\"Language-en\"],\n",
    "  \"tags\": ['structural biology'], # \"used in the search function ... very important to make your service discorerable. \"\n",
    "  #\"requiredServices\": [],\n",
    "  #\"relatedServices\": [],\n",
    "  #\"helpdesk\": \"http://helpdesk.url (optional)\",\n",
    "  #\"userManual\": \"http://manual.url (optional)\",\n",
    "  #\"trainingInformation\": \"http://training.url (optional)\",\n",
    "  #\"feedback\": \"http://feedback.url (optional)\",\n",
    "  #\"price\": \"http://price.url (optional)\",\n",
    "  \"serviceLevelAgreement\": \"https://auth.west-life.eu/aai/AUP.pdf\",\n",
    "  \"termsOfUse\": [\"https://auth.west-life.eu/aai/AUP.pdf\"],\n",
    "  \"funding\": \"EC funding \"\n",
    "}\n",
    "\n",
    "\n",
    "def get_description(**kwargs):\n",
    "    return json.dumps({**DEFAULTS, **kwargs})\n",
    "\n",
    "description = get_description(\n",
    "  url=\"http://service.url (required)\",\n",
    "  name=\"Service Name (required)\",\n",
    "  symbol=\"http://symbol.url (required)\", # logo\n",
    "  order=\"http://order.url (required)\", # url of service\n",
    ")\n",
    "\n",
    "HEADERS = {'Content-Type': 'application/json', 'Accept': 'application/json'}\n",
    "response = requests.post('http://beta.einfracentral.eu/api/service/validate', \n",
    "    data=description, headers=HEADERS)\n",
    "\n",
    "\n",
    "assert 200 == response.status_code, response.json()\n",
    "response.json()"
   ]
  },
  {
   "cell_type": "code",
   "execution_count": 48,
   "metadata": {},
   "outputs": [
    {
     "data": {
      "text/plain": [
       "{'url': '/eic-registry/service',\n",
       " 'error': 'Invalid JWT serialization: Missing dot delimiter(s)'}"
      ]
     },
     "execution_count": 48,
     "metadata": {},
     "output_type": "execute_result"
    }
   ],
   "source": [
    "\n",
    "headers = {'Content-Type': 'application/json', 'Accept': 'application/json',\n",
    "          'Authorization': 'Bearer '+'token'}\n",
    "response = requests.post('http://beta.einfracentral.eu/api/service', \n",
    "    data=description, headers=headers)\n",
    "\n",
    "assert 200 == response.status_code, (response.status_code, response.json())\n",
    "response.json()"
   ]
  },
  {
   "cell_type": "code",
   "execution_count": 67,
   "metadata": {},
   "outputs": [
    {
     "data": {
      "text/plain": [
       "'ok'"
      ]
     },
     "execution_count": 67,
     "metadata": {},
     "output_type": "execute_result"
    }
   ],
   "source": [
    "# api key\n",
    "with open('../einfracentral_apikey.txt', 'r') as f:\n",
    "    token = f.read().strip()\n",
    "    #print(token)\n",
    "\n",
    "# validation succeeds without authorization\n",
    "response = requests.post('http://beta.einfracentral.eu/api/service/validate', \n",
    "    data=description, \n",
    "    headers={'Content-Type': 'application/json', 'Accept': 'application/json'}\n",
    ")\n",
    "assert response.json()==True\n",
    "\n",
    "headers = {'Content-Type': 'application/json', 'Accept': 'application/json',\n",
    "          'Authorization': 'Bearer '+token}\n",
    "#response = requests.post('http://beta.einfracentral.eu/api/service', \n",
    "#    data=description, headers=headers)\n",
    "assert response.json()==True\n",
    "response = requests.post('http://beta.einfracentral.eu/api/service/validate', \n",
    "    data=description, headers=headers)\n",
    "assert response.status_code==200\n",
    "'ok'"
   ]
  },
  {
   "cell_type": "markdown",
   "metadata": {},
   "source": [
    "This work was funded by West-Life, a project funded by the European Commision contract H2020-EINFRA-2015-1-675858.\n",
    "\n",
    "Author: Chris Morris\n",
    "\n",
    "Copyright: STFC 201\n"
   ]
  }
 ],
 "metadata": {
  "kernelspec": {
   "display_name": "Python 3",
   "language": "python",
   "name": "python3"
  },
  "language_info": {
   "codemirror_mode": {
    "name": "ipython",
    "version": 3
   },
   "file_extension": ".py",
   "mimetype": "text/x-python",
   "name": "python",
   "nbconvert_exporter": "python",
   "pygments_lexer": "ipython3",
   "version": "3.6.3"
  }
 },
 "nbformat": 4,
 "nbformat_minor": 2
}
